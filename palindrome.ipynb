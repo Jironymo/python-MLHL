{
 "cells": [
  {
   "cell_type": "code",
   "execution_count": 1,
   "id": "e90e502b",
   "metadata": {},
   "outputs": [],
   "source": [
    "def is_palindrome(number):\n",
    "    '''find out whether *number* is a palindrome not using collections'''\n",
    "    number_copy = number\n",
    "    number_reversed = 0\n",
    "\n",
    "    while number_copy > 0:\n",
    "        current_digit = number_copy % 10\n",
    "        number_reversed = number_reversed*10 + current_digit\n",
    "        number_copy = number_copy // 10\n",
    "    if number_reversed == number:\n",
    "        print('is palindrome')\n",
    "    else:\n",
    "        print('not palindrome')"
   ]
  },
  {
   "cell_type": "code",
   "execution_count": 3,
   "id": "a7e86142",
   "metadata": {},
   "outputs": [
    {
     "name": "stdout",
     "output_type": "stream",
     "text": [
      "is palindrome\n"
     ]
    }
   ],
   "source": []
  },
  {
   "cell_type": "code",
   "execution_count": null,
   "id": "89f65aa3",
   "metadata": {},
   "outputs": [],
   "source": []
  }
 ],
 "metadata": {
  "kernelspec": {
   "display_name": "Python 3",
   "language": "python",
   "name": "python3"
  },
  "language_info": {
   "codemirror_mode": {
    "name": "ipython",
    "version": 3
   },
   "file_extension": ".py",
   "mimetype": "text/x-python",
   "name": "python",
   "nbconvert_exporter": "python",
   "pygments_lexer": "ipython3",
   "version": "3.8.8"
  }
 },
 "nbformat": 4,
 "nbformat_minor": 5
}
